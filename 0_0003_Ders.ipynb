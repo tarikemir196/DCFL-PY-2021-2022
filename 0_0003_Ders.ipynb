{
  "nbformat": 4,
  "nbformat_minor": 0,
  "metadata": {
    "colab": {
      "name": "0_0003.Ders.ipynb",
      "provenance": []
    },
    "kernelspec": {
      "name": "python3",
      "display_name": "Python 3"
    },
    "language_info": {
      "name": "python"
    }
  },
  "cells": [
    {
      "cell_type": "code",
      "execution_count": null,
      "metadata": {
        "id": "fct0AJVpZ3ag"
      },
      "outputs": [],
      "source": [
        "#Minik tekrar: print(), type(), help(), input, list(), len()"
      ]
    },
    {
      "cell_type": "code",
      "source": [
        "#Bir listeye öğrenci kaydeden minik program\n",
        "ogrenici_listesi=[]"
      ],
      "metadata": {
        "id": "nM683sONaQ4p"
      },
      "execution_count": 1,
      "outputs": []
    },
    {
      "cell_type": "code",
      "source": [
        "ad_soyad = input(\"Adın soyadın: \")\n",
        "ogrenici_listesi.append(ad_soyad)\n",
        "ogrenici_listesi.sort()"
      ],
      "metadata": {
        "colab": {
          "base_uri": "https://localhost:8080/"
        },
        "id": "eQ88JhSSavOy",
        "outputId": "4ab6e7de-50a4-429b-d4a6-cf99729d2ec2"
      },
      "execution_count": 14,
      "outputs": [
        {
          "name": "stdout",
          "output_type": "stream",
          "text": [
            "Adın soyadın: Elif Cerit\n"
          ]
        }
      ]
    },
    {
      "cell_type": "code",
      "source": [
        "ogrenci_sayisi = len(ogrenici_listesi)\n",
        "print(\"Kayıt Yapan Öğrenci Listesi: \", ogrenici_listesi)\n",
        "print(\"Kayıt yapan öğrenci sayısı: \",ogrenci_sayisi )"
      ],
      "metadata": {
        "colab": {
          "base_uri": "https://localhost:8080/"
        },
        "id": "EVMasHdCbK3_",
        "outputId": "b7b0d11f-71a5-42dc-e174-ab387683b3e3"
      },
      "execution_count": 15,
      "outputs": [
        {
          "output_type": "stream",
          "name": "stdout",
          "text": [
            "Kayıt Yapan Öğrenci Listesi:  ['Aleyna Subaşı', 'Elif Cerit', 'Eslem Gökpınar', 'Hilal Tunaboyu', 'Ufuk Yağmurlu', 'Veysel Kaya', 'İbrahim Uçar']\n",
            "Kayıt yapan öğrenci sayısı:  7\n"
          ]
        }
      ]
    },
    {
      "cell_type": "code",
      "source": [
        "#ikinci dereceden bir denkemin köklerini bulmak\n",
        "#x^2 +5x + 6=0 x=-3, x=-2\n",
        "#ax^2+bx+c=0,,, x1 =(-b+kökdelta)/2*a, x2= (-b-kökdelta)/2*a\n",
        "#delta = b^2-4*a*c"
      ],
      "metadata": {
        "id": "Cg-i8srschJl"
      },
      "execution_count": null,
      "outputs": []
    },
    {
      "cell_type": "code",
      "source": [
        "print(\"İkinci dereceden bir denklemin köklerini bulan python programı\")\n",
        "print(\"ax^2+bx+c=0\")\n",
        "print(50*\"*\")\n",
        "\n",
        "a = float(input(\"a değerini gir: \"))\n",
        "b = int(input(\"b değerini gir: \"))\n",
        "c = int(input(\"c değerini gir: \"))\n",
        "delta = b**2-4*a*c\n",
        "x1 = int((-b+(delta)**(0.5))/2*a)\n",
        "x2 = int((-b-(delta)**(0.5))/2*a)\n",
        "\n",
        "print(\"Girdiğin ikinic dereceden denklemin a değeri: {}, b değeri: {}, c değeri: {} \".format(a,b,c))\n",
        "print(\"x1 değeri: {} \\nx2 değeri : {} \".format(x1,x2))\n"
      ],
      "metadata": {
        "colab": {
          "base_uri": "https://localhost:8080/"
        },
        "id": "F9JHorjGdTXJ",
        "outputId": "ca586275-b5ad-408d-8fc6-0f3a49826b40"
      },
      "execution_count": 29,
      "outputs": [
        {
          "output_type": "stream",
          "name": "stdout",
          "text": [
            "İkinci dereceden bir denklemin köklerini bulan python programı\n",
            "ax^2+bx+c=0\n",
            "**************************************************\n",
            "a değerini gir: 0.5\n",
            "b değerini gir: 5\n",
            "c değerini gir: 3\n",
            "Girdiğin ikinic dereceden denklemin a değeri: 0.5, b değeri: 5, c değeri: 3 \n",
            "x1 değeri: 0 \n",
            "x2 değeri : -2 \n"
          ]
        }
      ]
    },
    {
      "cell_type": "markdown",
      "source": [
        "**KOŞULLU DURUMLAR**\n",
        "\n",
        "---\n",
        "\n"
      ],
      "metadata": {
        "id": "haFZGKJMftgc"
      }
    },
    {
      "cell_type": "code",
      "source": [
        "#mantıksal değerler ve karşılaştırma operatörleri\n",
        "#bool değerler, < ,> ,<= ,>=, == ,!="
      ],
      "metadata": {
        "id": "4VHWoqdrfyrX"
      },
      "execution_count": null,
      "outputs": []
    },
    {
      "cell_type": "code",
      "source": [
        "9>8"
      ],
      "metadata": {
        "colab": {
          "base_uri": "https://localhost:8080/"
        },
        "id": "cDfenPlWgHzn",
        "outputId": "879e1ab3-b7cb-49ba-fad6-48bc9a9a237e"
      },
      "execution_count": 19,
      "outputs": [
        {
          "output_type": "execute_result",
          "data": {
            "text/plain": [
              "True"
            ]
          },
          "metadata": {},
          "execution_count": 19
        }
      ]
    },
    {
      "cell_type": "code",
      "source": [
        "\"Veysel\" == \"Veysel\""
      ],
      "metadata": {
        "colab": {
          "base_uri": "https://localhost:8080/"
        },
        "id": "kL5jgGrogNPF",
        "outputId": "83def03d-ced0-4bca-9e8a-479de0eecded"
      },
      "execution_count": 20,
      "outputs": [
        {
          "output_type": "execute_result",
          "data": {
            "text/plain": [
              "True"
            ]
          },
          "metadata": {},
          "execution_count": 20
        }
      ]
    },
    {
      "cell_type": "code",
      "source": [
        "\"Muratt\" == \"Mehmet\""
      ],
      "metadata": {
        "colab": {
          "base_uri": "https://localhost:8080/"
        },
        "id": "FqcT4Z_dgTGV",
        "outputId": "5a46e3f0-a0b6-4a75-e6dc-30bbb1d2fbd8"
      },
      "execution_count": 22,
      "outputs": [
        {
          "output_type": "execute_result",
          "data": {
            "text/plain": [
              "False"
            ]
          },
          "metadata": {},
          "execution_count": 22
        }
      ]
    },
    {
      "cell_type": "code",
      "source": [
        "x = 10\n",
        "y = 10\n",
        "\n",
        "x == y"
      ],
      "metadata": {
        "colab": {
          "base_uri": "https://localhost:8080/"
        },
        "id": "OpNuMHDDge6_",
        "outputId": "3ee1165c-2acb-436b-d934-3e0060f079f8"
      },
      "execution_count": 25,
      "outputs": [
        {
          "output_type": "execute_result",
          "data": {
            "text/plain": [
              "True"
            ]
          },
          "metadata": {},
          "execution_count": 25
        }
      ]
    },
    {
      "cell_type": "code",
      "source": [
        "#mantıksal bağşaçlar:  or, and, not"
      ],
      "metadata": {
        "id": "P67XpLfyhZ4F"
      },
      "execution_count": null,
      "outputs": []
    },
    {
      "cell_type": "code",
      "source": [
        "#if-elif-else koşullu durumları\n",
        "/\n",
        "\n",
        "* if koşul:\n",
        "      yapılacak işlemler...\n",
        "\n",
        "  elif koşul:\n",
        "        yapılacak işlemler\n",
        "  elif koşul:\n",
        "       yapılacak işlemler\n",
        "  else:\n",
        "    yapılacak işlemelr\n",
        "\n",
        "\n",
        "*/"
      ],
      "metadata": {
        "id": "wgDlE_qfhjtv"
      },
      "execution_count": null,
      "outputs": []
    },
    {
      "cell_type": "code",
      "source": [
        "#sinemada yaş kontrolü yapan robot\n",
        "\n",
        "yas = int(input(\"Yaşın kaç?: \"))\n",
        "\n",
        "if yas >=18:\n",
        "  print(\"Filmi izleyebilirsin, hoşgeldin...\")\n",
        "elif 13 <= yas < 18:\n",
        "  print(\"Çocuk filimleri izleyebilirsin\")\n",
        "else:\n",
        "  print(\"Lütfen velin ile beraaber gel...\")\n"
      ],
      "metadata": {
        "colab": {
          "base_uri": "https://localhost:8080/"
        },
        "id": "-JyMbb4jmhMC",
        "outputId": "eb492d29-4136-4626-f0e6-5077c8a57eac"
      },
      "execution_count": 37,
      "outputs": [
        {
          "output_type": "stream",
          "name": "stdout",
          "text": [
            "Yaşın kaç?: 11\n",
            "Lütfen velin ile beraaber gel...\n"
          ]
        }
      ]
    },
    {
      "cell_type": "code",
      "source": [
        "#Mini hesap makinası...(kullanıcıdan iki sayı alınacak)"
      ],
      "metadata": {
        "id": "A-NFqQ7Unuzb"
      },
      "execution_count": null,
      "outputs": []
    },
    {
      "cell_type": "code",
      "source": [
        "print(\"Mini Hesap makinası\")\n",
        "print(50*\"*\")\n",
        "print(\"Toplama işlemi için 1, çarpma işlemi için 2, Bölme işlemi için 3, çıkarma işlmei için 4 tuşuna basınız...!\")\n",
        "\n",
        "islem_sec = input(\"Lütfen bir işlem seçiniz: \")\n",
        "\n",
        "sayi1 = int(input(\"Birinci sayıyı gir: \"))\n",
        "sayi2 = int(input(\"İkinci sayıyı gir: \"))\n",
        "\n",
        "if islem_sec ==\"1\":\n",
        "  print(\"Toplama işlemi başladı\")\n",
        "  print(\"Girdiğin sayılar: {}, {} \".format(sayi1, sayi2))\n",
        "  print(\"Toplamları: \", sayi1+sayi2)\n",
        "\n",
        "elif islem_sec ==\"2\":\n",
        "  print(\"Çarpma işlemi başladı\")\n",
        "  print(\"Girdiğin sayılar: {}, {} \".format(sayi1, sayi2))\n",
        "  print(\"Çarpımları: \", sayi1*sayi2)  \n",
        "\n",
        "elif islem_sec ==\"3\":\n",
        "  print(\"Bölme işlemi başladı\")\n",
        "  print(\"Girdiğin sayılar: {}, {} \".format(sayi1, sayi2))\n",
        "  print(\"Bölümleri: \", sayi1/sayi2) \n",
        "\n",
        "elif islem_sec ==\"4\":\n",
        "  print(\"Çıkarma işlemi başladı\")\n",
        "  print(\"Girdiğin sayılar: {}, {} \".format(sayi1, sayi2))\n",
        "  print(\"Farkları: \", sayi1-sayi2) \n",
        "\n",
        "else:\n",
        "  print(\"Lütfen geçerli bir tuşa basınız(1,2,3,4) işlemlerinden birini seçiniz\")"
      ],
      "metadata": {
        "colab": {
          "base_uri": "https://localhost:8080/"
        },
        "id": "LKqb_IVYn2PQ",
        "outputId": "064b0df0-a659-4d44-d0e9-1fc8a7f28cf2"
      },
      "execution_count": 41,
      "outputs": [
        {
          "output_type": "stream",
          "name": "stdout",
          "text": [
            "Mini Hesap makinası\n",
            "**************************************************\n",
            "Toplama işlemi için 1, çarpma işlemi için 2, Bölme işlemi için 3, çıkarma işlmei için 4 tuşuna basınız...!\n",
            "Lütfen bir işlem seçiniz: 1\n",
            "Birinci sayıyı gir: 10\n",
            "İkinci sayıyı gir: -30\n",
            "Toplama işlemi başladı\n",
            "Girdiğin sayılar: 10, -30 \n",
            "Toplamları:  -20\n"
          ]
        }
      ]
    },
    {
      "cell_type": "code",
      "source": [
        "#Kullanıcı girişi---mini programı"
      ],
      "metadata": {
        "id": "BiSoYa5uqT-S"
      },
      "execution_count": null,
      "outputs": []
    },
    {
      "cell_type": "code",
      "source": [
        "db_k_adi = \"Kedi\"\n",
        "db_k_sifre = \"12345\"\n",
        "\n",
        "k_adi = input(\"Kullanıcı adınız: \")\n",
        "k_sifre = input(\"Şifreniz: \")\n",
        "\n",
        "if k_adi == db_k_adi and k_sifre == db_k_sifre:\n",
        "  print(\"Hoşgeldin: \", k_adi)\n",
        "\n",
        "elif k_adi == db_k_adi and k_sifre != db_k_sifre:\n",
        "  print(\"Merhaba \", k_adi, \"Şifren hatalı. lütfen tekrar dene!\")\n",
        "\n",
        "elif k_adi != db_k_adi and k_sifre == db_k_sifre:\n",
        "  print(\"Kullanıcı adın hatalı..\")\n",
        "\n",
        "else:\n",
        "  print(\"Kullanıcı adınız ve şifreniz hatalı!\")\n"
      ],
      "metadata": {
        "colab": {
          "base_uri": "https://localhost:8080/"
        },
        "id": "mnM38eNVqZDs",
        "outputId": "2229168d-0ebb-4e7e-b19a-cab9c8544a52"
      },
      "execution_count": 47,
      "outputs": [
        {
          "output_type": "stream",
          "name": "stdout",
          "text": [
            "Kullanıcı adınız: Kedi\n",
            "Şifreniz: 12345\n",
            "Hoşgeldin:  Kedi\n"
          ]
        }
      ]
    },
    {
      "cell_type": "code",
      "source": [
        "# ödev: bilgi yarışması\n",
        "# 10 tane sorunun olduğu bir liste oluşturun\n",
        "# 10 tane elamnı olan bir cevap anahtarı listesi oluşturun\n",
        "# en başta puan=0 değişkeni oluşturulacak. doğru cevap için +10 puan kazanacak. bilmezse 0 puan alacak\n",
        "# puan = puan +10\n"
      ],
      "metadata": {
        "id": "jIiFK4aSsqKm"
      },
      "execution_count": null,
      "outputs": []
    }
  ]
}