{
  "nbformat": 4,
  "nbformat_minor": 0,
  "metadata": {
    "colab": {
      "name": "0002_Ders.ipynb",
      "provenance": [],
      "collapsed_sections": []
    },
    "kernelspec": {
      "name": "python3",
      "display_name": "Python 3"
    },
    "language_info": {
      "name": "python"
    }
  },
  "cells": [
    {
      "cell_type": "code",
      "metadata": {
        "colab": {
          "base_uri": "https://localhost:8080/"
        },
        "id": "HiHXoggYWWY4",
        "outputId": "ec376ac3-6f17-4b59-fa9c-e15a06ebfe62"
      },
      "source": [
        "#Minik tekrar.\n",
        "#int: tam sayı, float: ondalıklı sayı\n",
        "#Küpün hacmini ve alanını hesplayan mini program\n",
        "#yüzey köşegeni: akök2\n",
        "\n",
        "print(\"Bir küpün alanını ve hacmini hesaplayan mini program(uzunluğu cm türünden gir)\")\n",
        "print(50*\"*\")\n",
        "\n",
        "a = float(input(\"Küpün kenar uzunluğunu gir: \"))\n",
        "\n",
        "hacim = a**3\n",
        "alan = 6*a**2\n",
        "yuzey_k= a*2**(0.5)\n",
        "\n",
        "print(\"Girmiş olduğun küpün bir kenar uzunluğu: \", a, \"cm\")\n",
        "print(\"Hacim: \", hacim, \"cm^3\")\n",
        "print(\"Alan: \", alan, \"cm^2\")\n",
        "print(\"Yüzey Köşegeni: \", yuzey_k, \"cm\")\n",
        "\n"
      ],
      "execution_count": 11,
      "outputs": [
        {
          "output_type": "stream",
          "name": "stdout",
          "text": [
            "Bir küpün alanını ve hacmini hesaplayan mini program(uzunluğu cm türünden gir)\n",
            "**************************************************\n",
            "Küpün kenar uzunluğunu gir: 16\n",
            "Girmiş olduğun küpün bir kenar uzunluğu:  16.0 cm\n",
            "Hacim:  4096.0 cm^3\n",
            "Alan:  1536.0 cm^2\n",
            "Yüzey Köşegeni:  22.627416997969522 cm\n"
          ]
        }
      ]
    },
    {
      "cell_type": "code",
      "metadata": {
        "colab": {
          "base_uri": "https://localhost:8080/"
        },
        "id": "375zPN_GYqJM",
        "outputId": "8adb882e-e64c-47f8-a803-0f766b53bceb"
      },
      "source": [
        "8**2"
      ],
      "execution_count": 6,
      "outputs": [
        {
          "output_type": "execute_result",
          "data": {
            "text/plain": [
              "64"
            ]
          },
          "metadata": {},
          "execution_count": 6
        }
      ]
    },
    {
      "cell_type": "code",
      "metadata": {
        "colab": {
          "base_uri": "https://localhost:8080/"
        },
        "id": "Ew4-gCGiYsJD",
        "outputId": "6e9b3bf0-34c2-48a7-e8c5-bc851eaf7ab8"
      },
      "source": [
        "16**(0.5)"
      ],
      "execution_count": 7,
      "outputs": [
        {
          "output_type": "execute_result",
          "data": {
            "text/plain": [
              "4.0"
            ]
          },
          "metadata": {},
          "execution_count": 7
        }
      ]
    },
    {
      "cell_type": "code",
      "metadata": {
        "id": "X6OyDD58ZcwP"
      },
      "source": [
        "#Boolean değeler.... True ve False..cevabı evet ve hayır olan veri tipler.. mantıksal değeler"
      ],
      "execution_count": null,
      "outputs": []
    },
    {
      "cell_type": "code",
      "metadata": {
        "colab": {
          "base_uri": "https://localhost:8080/"
        },
        "id": "01CXs9pjZwT2",
        "outputId": "5066dabd-0b75-4fae-98b4-e31645efd316"
      },
      "source": [
        "5>6"
      ],
      "execution_count": 12,
      "outputs": [
        {
          "output_type": "execute_result",
          "data": {
            "text/plain": [
              "False"
            ]
          },
          "metadata": {},
          "execution_count": 12
        }
      ]
    },
    {
      "cell_type": "code",
      "metadata": {
        "colab": {
          "base_uri": "https://localhost:8080/"
        },
        "id": "ifULiEYaZzeC",
        "outputId": "228cd6bc-b65b-4052-b2b8-8f5c2bba00f1"
      },
      "source": [
        "6<7"
      ],
      "execution_count": 13,
      "outputs": [
        {
          "output_type": "execute_result",
          "data": {
            "text/plain": [
              "True"
            ]
          },
          "metadata": {},
          "execution_count": 13
        }
      ]
    },
    {
      "cell_type": "code",
      "metadata": {
        "id": "R7DVKpNAZ4J8"
      },
      "source": [
        "#Karşılaştırma operatörleri\n",
        "# <,>, ==(bir tane = değişken değerler atanırken kullanılır),  !=, <=, >="
      ],
      "execution_count": null,
      "outputs": []
    },
    {
      "cell_type": "code",
      "metadata": {
        "colab": {
          "base_uri": "https://localhost:8080/",
          "height": 131
        },
        "id": "WQNO9h71aN1J",
        "outputId": "300a26b7-2c0d-4889-99b4-f9280b4b91ae"
      },
      "source": [
        "4 = 4"
      ],
      "execution_count": 14,
      "outputs": [
        {
          "output_type": "error",
          "ename": "SyntaxError",
          "evalue": "ignored",
          "traceback": [
            "\u001b[0;36m  File \u001b[0;32m\"<ipython-input-14-25ad728fdf0a>\"\u001b[0;36m, line \u001b[0;32m1\u001b[0m\n\u001b[0;31m    4 = 4\u001b[0m\n\u001b[0m         ^\u001b[0m\n\u001b[0;31mSyntaxError\u001b[0m\u001b[0;31m:\u001b[0m can't assign to literal\n"
          ]
        }
      ]
    },
    {
      "cell_type": "code",
      "metadata": {
        "colab": {
          "base_uri": "https://localhost:8080/"
        },
        "id": "prFoHibOaS2-",
        "outputId": "75924ce3-61e8-42e5-8bb1-05698bdfb127"
      },
      "source": [
        "4 == 4"
      ],
      "execution_count": 15,
      "outputs": [
        {
          "output_type": "execute_result",
          "data": {
            "text/plain": [
              "True"
            ]
          },
          "metadata": {},
          "execution_count": 15
        }
      ]
    },
    {
      "cell_type": "code",
      "metadata": {
        "colab": {
          "base_uri": "https://localhost:8080/"
        },
        "id": "JRr4AFXwaXYS",
        "outputId": "405cfd93-c4ec-493f-8c9e-b44da254e1d2"
      },
      "source": [
        "5 != 4"
      ],
      "execution_count": 16,
      "outputs": [
        {
          "output_type": "execute_result",
          "data": {
            "text/plain": [
              "True"
            ]
          },
          "metadata": {},
          "execution_count": 16
        }
      ]
    },
    {
      "cell_type": "code",
      "metadata": {
        "colab": {
          "base_uri": "https://localhost:8080/"
        },
        "id": "nkz2_IvYaajh",
        "outputId": "32652bb5-2bbf-4db6-93e9-a6b416f03d83"
      },
      "source": [
        "6>=6"
      ],
      "execution_count": 17,
      "outputs": [
        {
          "output_type": "execute_result",
          "data": {
            "text/plain": [
              "True"
            ]
          },
          "metadata": {},
          "execution_count": 17
        }
      ]
    },
    {
      "cell_type": "code",
      "metadata": {
        "colab": {
          "base_uri": "https://localhost:8080/"
        },
        "id": "BXgDG0zPadE8",
        "outputId": "79170456-0aa0-49b1-8b9d-cb9d7670f06d"
      },
      "source": [
        "6<=8"
      ],
      "execution_count": 18,
      "outputs": [
        {
          "output_type": "execute_result",
          "data": {
            "text/plain": [
              "True"
            ]
          },
          "metadata": {},
          "execution_count": 18
        }
      ]
    },
    {
      "cell_type": "code",
      "metadata": {
        "id": "2TYs0D3VaoOt"
      },
      "source": [
        "#birleştirme operatörleri... not, and, or"
      ],
      "execution_count": null,
      "outputs": []
    },
    {
      "cell_type": "code",
      "metadata": {
        "colab": {
          "base_uri": "https://localhost:8080/"
        },
        "id": "dyE3w9TXaxof",
        "outputId": "61c479cd-5ebf-446d-8a8d-5dd1bd43cce0"
      },
      "source": [
        "bool(1)"
      ],
      "execution_count": 20,
      "outputs": [
        {
          "output_type": "execute_result",
          "data": {
            "text/plain": [
              "True"
            ]
          },
          "metadata": {},
          "execution_count": 20
        }
      ]
    },
    {
      "cell_type": "code",
      "metadata": {
        "colab": {
          "base_uri": "https://localhost:8080/"
        },
        "id": "3BTa5p-1a5pZ",
        "outputId": "f3057691-0ed9-452f-fa65-c08661523305"
      },
      "source": [
        "bool(0)"
      ],
      "execution_count": 21,
      "outputs": [
        {
          "output_type": "execute_result",
          "data": {
            "text/plain": [
              "False"
            ]
          },
          "metadata": {},
          "execution_count": 21
        }
      ]
    },
    {
      "cell_type": "code",
      "metadata": {
        "colab": {
          "base_uri": "https://localhost:8080/"
        },
        "id": "I6DV7bDVbJCi",
        "outputId": "e74d44b1-b7c9-4fe9-ba61-b4135223af41"
      },
      "source": [
        "1 or 1"
      ],
      "execution_count": 25,
      "outputs": [
        {
          "output_type": "execute_result",
          "data": {
            "text/plain": [
              "1"
            ]
          },
          "metadata": {},
          "execution_count": 25
        }
      ]
    },
    {
      "cell_type": "code",
      "metadata": {
        "colab": {
          "base_uri": "https://localhost:8080/"
        },
        "id": "jmFrTH5HbUFr",
        "outputId": "7ebcedfa-5c00-4ac0-a43b-317ceaefe93c"
      },
      "source": [
        "1 and 1"
      ],
      "execution_count": 26,
      "outputs": [
        {
          "output_type": "execute_result",
          "data": {
            "text/plain": [
              "1"
            ]
          },
          "metadata": {},
          "execution_count": 26
        }
      ]
    },
    {
      "cell_type": "code",
      "metadata": {
        "colab": {
          "base_uri": "https://localhost:8080/"
        },
        "id": "n76_Pi27bZbP",
        "outputId": "d680cd87-6403-4027-cf4d-f6dc278369ac"
      },
      "source": [
        "1 and 0"
      ],
      "execution_count": 27,
      "outputs": [
        {
          "output_type": "execute_result",
          "data": {
            "text/plain": [
              "0"
            ]
          },
          "metadata": {},
          "execution_count": 27
        }
      ]
    },
    {
      "cell_type": "code",
      "metadata": {
        "colab": {
          "base_uri": "https://localhost:8080/"
        },
        "id": "y-n_XuYzbcL0",
        "outputId": "4acc293e-fa4a-4162-8177-81890e91f5aa"
      },
      "source": [
        "1 or 0"
      ],
      "execution_count": 28,
      "outputs": [
        {
          "output_type": "execute_result",
          "data": {
            "text/plain": [
              "1"
            ]
          },
          "metadata": {},
          "execution_count": 28
        }
      ]
    },
    {
      "cell_type": "code",
      "metadata": {
        "colab": {
          "base_uri": "https://localhost:8080/"
        },
        "id": "BgGNSoJgbenp",
        "outputId": "8ce793a3-772a-4baf-fd18-df76d3c40677"
      },
      "source": [
        "not(1 and 1)"
      ],
      "execution_count": 30,
      "outputs": [
        {
          "output_type": "execute_result",
          "data": {
            "text/plain": [
              "False"
            ]
          },
          "metadata": {},
          "execution_count": 30
        }
      ]
    },
    {
      "cell_type": "code",
      "metadata": {
        "colab": {
          "base_uri": "https://localhost:8080/"
        },
        "id": "Oww21CGhbnN5",
        "outputId": "6eeb4462-bb03-4f2a-b047-6ba926210a9e"
      },
      "source": [
        "(6>7 and 6<9.8) or (6.9>5 and 67<87)\n",
        "\n"
      ],
      "execution_count": 31,
      "outputs": [
        {
          "output_type": "execute_result",
          "data": {
            "text/plain": [
              "True"
            ]
          },
          "metadata": {},
          "execution_count": 31
        }
      ]
    },
    {
      "cell_type": "code",
      "metadata": {
        "colab": {
          "base_uri": "https://localhost:8080/"
        },
        "id": "rcWeAt3nb0J6",
        "outputId": "f627fc8e-e187-42b3-f03f-f876124c83bf"
      },
      "source": [
        "(0 and 1) or (1 and 1)"
      ],
      "execution_count": 32,
      "outputs": [
        {
          "output_type": "execute_result",
          "data": {
            "text/plain": [
              "1"
            ]
          },
          "metadata": {},
          "execution_count": 32
        }
      ]
    },
    {
      "cell_type": "code",
      "metadata": {
        "colab": {
          "base_uri": "https://localhost:8080/"
        },
        "id": "KFTsMxkOcE1P",
        "outputId": "17e2d0e4-4726-4b16-8b84-ae470805960a"
      },
      "source": [
        "# if elif, else konusuna geri dönülecektir....!\n",
        "db_sifre = \"12345\"\n",
        "db_k_adi = \"kedi\"\n",
        "\n",
        "k_adi = input(\"Kullanıcı adını gir: \")\n",
        "sifre = input(\"Şifreni gir: \")\n",
        "\n",
        "if (db_sifre == sifre) and (db_k_adi == k_adi):\n",
        "  print(\"Bilgiler doğru, giriş başarılı\")\n",
        "else: \n",
        "  print(\"Bilgilerde hata var!\")"
      ],
      "execution_count": 34,
      "outputs": [
        {
          "output_type": "stream",
          "name": "stdout",
          "text": [
            "kullanıcı adını gir: elma\n",
            "Şifreni gir: 12345\n",
            "Bilgilerde hata var!\n"
          ]
        }
      ]
    },
    {
      "cell_type": "code",
      "metadata": {
        "id": "TKF1p6cMi9Gb"
      },
      "source": [
        "#Listeler...birden fazla veri içeren python yapılarıdır"
      ],
      "execution_count": null,
      "outputs": []
    },
    {
      "cell_type": "code",
      "metadata": {
        "id": "ylQji-q3kCMg"
      },
      "source": [
        "liste = []"
      ],
      "execution_count": 35,
      "outputs": []
    },
    {
      "cell_type": "code",
      "metadata": {
        "colab": {
          "base_uri": "https://localhost:8080/"
        },
        "id": "WZ2aJArDkFi5",
        "outputId": "659a9290-df0c-433d-c269-7572cbe630c3"
      },
      "source": [
        "type(liste)"
      ],
      "execution_count": 36,
      "outputs": [
        {
          "output_type": "execute_result",
          "data": {
            "text/plain": [
              "list"
            ]
          },
          "metadata": {},
          "execution_count": 36
        }
      ]
    },
    {
      "cell_type": "code",
      "metadata": {
        "id": "AGtfrmB8kLdN"
      },
      "source": [
        "rakamlar = [0,1,2,3,4,5,6,7,8,9]"
      ],
      "execution_count": 45,
      "outputs": []
    },
    {
      "cell_type": "code",
      "metadata": {
        "colab": {
          "base_uri": "https://localhost:8080/"
        },
        "id": "A8LP8q76kp3q",
        "outputId": "48533f96-d67d-424d-daa3-8f6d298ba6f7"
      },
      "source": [
        "rakamlar"
      ],
      "execution_count": 46,
      "outputs": [
        {
          "output_type": "execute_result",
          "data": {
            "text/plain": [
              "[0, 1, 2, 3, 4, 5, 6, 7, 8, 9]"
            ]
          },
          "metadata": {},
          "execution_count": 46
        }
      ]
    },
    {
      "cell_type": "code",
      "metadata": {
        "id": "PzL4q2ISkuxm"
      },
      "source": [
        "meyveler = [\"elma\", \"kiraz\", \"muz\", \"çilek\", \"portakal\"]"
      ],
      "execution_count": 47,
      "outputs": []
    },
    {
      "cell_type": "code",
      "metadata": {
        "colab": {
          "base_uri": "https://localhost:8080/"
        },
        "id": "AZ0ZR1g2k37b",
        "outputId": "0924fdd8-9c1b-47c3-f0e9-bc90ff9aff15"
      },
      "source": [
        "meyveler"
      ],
      "execution_count": 48,
      "outputs": [
        {
          "output_type": "execute_result",
          "data": {
            "text/plain": [
              "['elma', 'kiraz', 'muz', 'çilek', 'portakal']"
            ]
          },
          "metadata": {},
          "execution_count": 48
        }
      ]
    },
    {
      "cell_type": "code",
      "metadata": {
        "colab": {
          "base_uri": "https://localhost:8080/"
        },
        "id": "UxRl2IQ5lGfV",
        "outputId": "38872fdb-6a2e-4446-c04e-7426160d842a"
      },
      "source": [
        "liste"
      ],
      "execution_count": 49,
      "outputs": [
        {
          "output_type": "execute_result",
          "data": {
            "text/plain": [
              "[]"
            ]
          },
          "metadata": {},
          "execution_count": 49
        }
      ]
    },
    {
      "cell_type": "code",
      "metadata": {
        "id": "2re-UGYSlSFX"
      },
      "source": [
        "#Listedeki abzı fonksiyonlar...len() fonksiyonu"
      ],
      "execution_count": null,
      "outputs": []
    },
    {
      "cell_type": "code",
      "metadata": {
        "colab": {
          "base_uri": "https://localhost:8080/"
        },
        "id": "3cLXn0FLlZ_A",
        "outputId": "55c320df-f618-410f-aab3-f3e42eeea648"
      },
      "source": [
        "len(meyveler)"
      ],
      "execution_count": 50,
      "outputs": [
        {
          "output_type": "execute_result",
          "data": {
            "text/plain": [
              "5"
            ]
          },
          "metadata": {},
          "execution_count": 50
        }
      ]
    },
    {
      "cell_type": "code",
      "metadata": {
        "colab": {
          "base_uri": "https://localhost:8080/"
        },
        "id": "q99qRzmdlhiI",
        "outputId": "025f114d-8ab5-41a9-f94f-43f19ebed3d0"
      },
      "source": [
        "len(\"Metehan Bozkurt\")"
      ],
      "execution_count": 51,
      "outputs": [
        {
          "output_type": "execute_result",
          "data": {
            "text/plain": [
              "15"
            ]
          },
          "metadata": {},
          "execution_count": 51
        }
      ]
    },
    {
      "cell_type": "code",
      "metadata": {
        "id": "TURr7H-al5EG"
      },
      "source": [
        "#toplama işlemi yapılabilir\n",
        "liste1 = [1,2,3,4,5]\n",
        "liste2 = [6,7,8,9,10]\n",
        "liste3 = liste1+liste2\n"
      ],
      "execution_count": 53,
      "outputs": []
    },
    {
      "cell_type": "code",
      "metadata": {
        "colab": {
          "base_uri": "https://localhost:8080/"
        },
        "id": "WxWDeE5GmG12",
        "outputId": "f97f64ed-3885-4b4c-d39b-4310c018b4f7"
      },
      "source": [
        "liste3"
      ],
      "execution_count": 54,
      "outputs": [
        {
          "output_type": "execute_result",
          "data": {
            "text/plain": [
              "[1, 2, 3, 4, 5, 6, 7, 8, 9, 10]"
            ]
          },
          "metadata": {},
          "execution_count": 54
        }
      ]
    },
    {
      "cell_type": "code",
      "metadata": {
        "colab": {
          "base_uri": "https://localhost:8080/"
        },
        "id": "HX8u_QaymMLz",
        "outputId": "a8d60e4c-ce99-46d5-8145-cd9af3c8c05f"
      },
      "source": [
        "2*liste3"
      ],
      "execution_count": 56,
      "outputs": [
        {
          "output_type": "execute_result",
          "data": {
            "text/plain": [
              "[1, 2, 3, 4, 5, 6, 7, 8, 9, 10, 1, 2, 3, 4, 5, 6, 7, 8, 9, 10]"
            ]
          },
          "metadata": {},
          "execution_count": 56
        }
      ]
    },
    {
      "cell_type": "code",
      "metadata": {
        "id": "vjHJYZsFmS2b"
      },
      "source": [
        "#listelerde index"
      ],
      "execution_count": null,
      "outputs": []
    },
    {
      "cell_type": "code",
      "metadata": {
        "colab": {
          "base_uri": "https://localhost:8080/",
          "height": 35
        },
        "id": "I7Hqj7lAmW0e",
        "outputId": "fecce932-18ff-4c44-9002-801b938e2051"
      },
      "source": [
        "meyveler[0]"
      ],
      "execution_count": 57,
      "outputs": [
        {
          "output_type": "execute_result",
          "data": {
            "application/vnd.google.colaboratory.intrinsic+json": {
              "type": "string"
            },
            "text/plain": [
              "'elma'"
            ]
          },
          "metadata": {},
          "execution_count": 57
        }
      ]
    },
    {
      "cell_type": "code",
      "metadata": {
        "id": "edNmvBIZmgBa"
      },
      "source": [
        ""
      ],
      "execution_count": null,
      "outputs": []
    },
    {
      "cell_type": "code",
      "metadata": {
        "colab": {
          "base_uri": "https://localhost:8080/",
          "height": 35
        },
        "id": "x7_7SKGJmgJV",
        "outputId": "ee7979f8-e8a8-4b3f-b3a0-7de75d5db301"
      },
      "source": [
        "meyveler[3]"
      ],
      "execution_count": 58,
      "outputs": [
        {
          "output_type": "execute_result",
          "data": {
            "application/vnd.google.colaboratory.intrinsic+json": {
              "type": "string"
            },
            "text/plain": [
              "'çilek'"
            ]
          },
          "metadata": {},
          "execution_count": 58
        }
      ]
    },
    {
      "cell_type": "code",
      "metadata": {
        "colab": {
          "base_uri": "https://localhost:8080/"
        },
        "id": "Agz2SINBmj4t",
        "outputId": "81607835-6137-4d6d-9591-f370f1ff3651"
      },
      "source": [
        "len(meyveler[1])"
      ],
      "execution_count": 59,
      "outputs": [
        {
          "output_type": "execute_result",
          "data": {
            "text/plain": [
              "5"
            ]
          },
          "metadata": {},
          "execution_count": 59
        }
      ]
    },
    {
      "cell_type": "code",
      "metadata": {
        "id": "OGHSnY79mwjI"
      },
      "source": [
        "oyuncaklar = [[\"araba\", \"kamyon\"], [\"legolar\", \"puzzle\"], [\"bebekler\", \"barby\"]]"
      ],
      "execution_count": 60,
      "outputs": []
    },
    {
      "cell_type": "code",
      "metadata": {
        "colab": {
          "base_uri": "https://localhost:8080/",
          "height": 35
        },
        "id": "sixiaV28nGgs",
        "outputId": "e375e565-b474-4306-dde0-69d7b7a9be63"
      },
      "source": [
        "oyuncaklar[1][0]"
      ],
      "execution_count": 61,
      "outputs": [
        {
          "output_type": "execute_result",
          "data": {
            "application/vnd.google.colaboratory.intrinsic+json": {
              "type": "string"
            },
            "text/plain": [
              "'legolar'"
            ]
          },
          "metadata": {},
          "execution_count": 61
        }
      ]
    },
    {
      "cell_type": "code",
      "metadata": {
        "colab": {
          "base_uri": "https://localhost:8080/",
          "height": 35
        },
        "id": "tuujKUDxnP9A",
        "outputId": "a444d1e5-32bb-45e7-fbf0-50ccef1cb46a"
      },
      "source": [
        "oyuncaklar[2][1]"
      ],
      "execution_count": 62,
      "outputs": [
        {
          "output_type": "execute_result",
          "data": {
            "application/vnd.google.colaboratory.intrinsic+json": {
              "type": "string"
            },
            "text/plain": [
              "'barby'"
            ]
          },
          "metadata": {},
          "execution_count": 62
        }
      ]
    },
    {
      "cell_type": "code",
      "metadata": {
        "id": "-NSj3XhxnfkO"
      },
      "source": [
        "rakamlar = [0,1,2,3,4,5,6,7,8,9]"
      ],
      "execution_count": 63,
      "outputs": []
    },
    {
      "cell_type": "code",
      "metadata": {
        "colab": {
          "base_uri": "https://localhost:8080/"
        },
        "id": "mDAgSlrMnhMW",
        "outputId": "34e84cd1-da90-4fb3-a844-cc51afae9015"
      },
      "source": [
        "rakamlar[:3]"
      ],
      "execution_count": 64,
      "outputs": [
        {
          "output_type": "execute_result",
          "data": {
            "text/plain": [
              "[0, 1, 2]"
            ]
          },
          "metadata": {},
          "execution_count": 64
        }
      ]
    },
    {
      "cell_type": "code",
      "metadata": {
        "colab": {
          "base_uri": "https://localhost:8080/"
        },
        "id": "7beg6s3cnmKs",
        "outputId": "c36ca8d6-c5d7-41b3-bec3-ed3791518ab9"
      },
      "source": [
        "rakamlar[3:]"
      ],
      "execution_count": 65,
      "outputs": [
        {
          "output_type": "execute_result",
          "data": {
            "text/plain": [
              "[3, 4, 5, 6, 7, 8, 9]"
            ]
          },
          "metadata": {},
          "execution_count": 65
        }
      ]
    },
    {
      "cell_type": "code",
      "metadata": {
        "colab": {
          "base_uri": "https://localhost:8080/"
        },
        "id": "KypLYW3-nwiC",
        "outputId": "f6b7a39b-4adf-4309-9a1d-8d8dc15e5a93"
      },
      "source": [
        "rakamlar[::-1]"
      ],
      "execution_count": 71,
      "outputs": [
        {
          "output_type": "execute_result",
          "data": {
            "text/plain": [
              "[9, 8, 7, 6, 5, 4, 3, 2, 1, 0]"
            ]
          },
          "metadata": {},
          "execution_count": 71
        }
      ]
    },
    {
      "cell_type": "code",
      "metadata": {
        "colab": {
          "base_uri": "https://localhost:8080/"
        },
        "id": "ikwtawo1n5VK",
        "outputId": "3be7f821-b422-4bd1-dfda-f30b5c299ca7"
      },
      "source": [
        "rakamlar[::2]"
      ],
      "execution_count": 68,
      "outputs": [
        {
          "output_type": "execute_result",
          "data": {
            "text/plain": [
              "[0, 2, 4, 6, 8]"
            ]
          },
          "metadata": {},
          "execution_count": 68
        }
      ]
    },
    {
      "cell_type": "code",
      "metadata": {
        "id": "VKgnpzUdoN2f"
      },
      "source": [
        "#listede metodlar\n",
        "#append metodu-- yeni elemna eklemek için kullanılır"
      ],
      "execution_count": null,
      "outputs": []
    },
    {
      "cell_type": "code",
      "metadata": {
        "colab": {
          "base_uri": "https://localhost:8080/"
        },
        "id": "dFadtayboW1q",
        "outputId": "5a487b3f-08e8-4d6d-a823-b1dda56416b3"
      },
      "source": [
        "meyveler"
      ],
      "execution_count": 72,
      "outputs": [
        {
          "output_type": "execute_result",
          "data": {
            "text/plain": [
              "['elma', 'kiraz', 'muz', 'çilek', 'portakal']"
            ]
          },
          "metadata": {},
          "execution_count": 72
        }
      ]
    },
    {
      "cell_type": "code",
      "metadata": {
        "id": "ZmOTBeznoZba"
      },
      "source": [
        "meyveler.append(\"kivi\")"
      ],
      "execution_count": 73,
      "outputs": []
    },
    {
      "cell_type": "code",
      "metadata": {
        "colab": {
          "base_uri": "https://localhost:8080/"
        },
        "id": "Wm2FABoaolvc",
        "outputId": "bdebcca1-fa7c-4de6-e63a-a52d2764dc0f"
      },
      "source": [
        "meyveler"
      ],
      "execution_count": 74,
      "outputs": [
        {
          "output_type": "execute_result",
          "data": {
            "text/plain": [
              "['elma', 'kiraz', 'muz', 'çilek', 'portakal', 'kivi']"
            ]
          },
          "metadata": {},
          "execution_count": 74
        }
      ]
    },
    {
      "cell_type": "code",
      "metadata": {
        "id": "pljtE-tForP9"
      },
      "source": [
        "#pop metodu..... son elemanı siler"
      ],
      "execution_count": null,
      "outputs": []
    },
    {
      "cell_type": "code",
      "metadata": {
        "colab": {
          "base_uri": "https://localhost:8080/",
          "height": 35
        },
        "id": "j7_VvRnOovM3",
        "outputId": "827d9829-6e7c-49b1-8bef-268ed74a011a"
      },
      "source": [
        "meyveler.pop()"
      ],
      "execution_count": 75,
      "outputs": [
        {
          "output_type": "execute_result",
          "data": {
            "application/vnd.google.colaboratory.intrinsic+json": {
              "type": "string"
            },
            "text/plain": [
              "'kivi'"
            ]
          },
          "metadata": {},
          "execution_count": 75
        }
      ]
    },
    {
      "cell_type": "code",
      "metadata": {
        "colab": {
          "base_uri": "https://localhost:8080/"
        },
        "id": "g_h2a8fzoyUH",
        "outputId": "dedc986b-963d-47e7-ff98-034cf2bff147"
      },
      "source": [
        "meyveler"
      ],
      "execution_count": 76,
      "outputs": [
        {
          "output_type": "execute_result",
          "data": {
            "text/plain": [
              "['elma', 'kiraz', 'muz', 'çilek', 'portakal']"
            ]
          },
          "metadata": {},
          "execution_count": 76
        }
      ]
    },
    {
      "cell_type": "code",
      "metadata": {
        "id": "6TvSaSymponV"
      },
      "source": [
        "sayilar = [89,56,98,34,78,987,322,1,22,345,654,789,980]"
      ],
      "execution_count": 85,
      "outputs": []
    },
    {
      "cell_type": "code",
      "metadata": {
        "colab": {
          "base_uri": "https://localhost:8080/"
        },
        "id": "QwnMQAxhp579",
        "outputId": "cd84146d-ccce-4bb0-8ffb-c34c828f437c"
      },
      "source": [
        "sayilar"
      ],
      "execution_count": 86,
      "outputs": [
        {
          "output_type": "execute_result",
          "data": {
            "text/plain": [
              "[89, 56, 98, 34, 78, 987, 322, 1, 22, 345, 654, 789, 980]"
            ]
          },
          "metadata": {},
          "execution_count": 86
        }
      ]
    },
    {
      "cell_type": "code",
      "metadata": {
        "id": "89VR1vk2pycv"
      },
      "source": [
        "sayilar.sort()"
      ],
      "execution_count": 87,
      "outputs": []
    },
    {
      "cell_type": "code",
      "metadata": {
        "colab": {
          "base_uri": "https://localhost:8080/"
        },
        "id": "tmGec2H_p8R4",
        "outputId": "fbe0f728-9e52-408c-c5bf-9fe1da18df40"
      },
      "source": [
        "sayilar"
      ],
      "execution_count": 88,
      "outputs": [
        {
          "output_type": "execute_result",
          "data": {
            "text/plain": [
              "[1, 22, 34, 56, 78, 89, 98, 322, 345, 654, 789, 980, 987]"
            ]
          },
          "metadata": {},
          "execution_count": 88
        }
      ]
    },
    {
      "cell_type": "code",
      "metadata": {
        "id": "qajS6K0DqHjT"
      },
      "source": [
        "sayilar.reverse()"
      ],
      "execution_count": 89,
      "outputs": []
    },
    {
      "cell_type": "code",
      "metadata": {
        "colab": {
          "base_uri": "https://localhost:8080/"
        },
        "id": "QxM8nHz-qK7Y",
        "outputId": "99153f60-e8f1-420f-ee25-65c3b75614ac"
      },
      "source": [
        "sayilar"
      ],
      "execution_count": 90,
      "outputs": [
        {
          "output_type": "execute_result",
          "data": {
            "text/plain": [
              "[987, 980, 789, 654, 345, 322, 98, 89, 78, 56, 34, 22, 1]"
            ]
          },
          "metadata": {},
          "execution_count": 90
        }
      ]
    },
    {
      "cell_type": "code",
      "metadata": {
        "id": "pWKbPZ7RqSlD"
      },
      "source": [
        "sayilar2 = [12,34,54,678,2,33,4444,65,7789]"
      ],
      "execution_count": 91,
      "outputs": []
    },
    {
      "cell_type": "code",
      "metadata": {
        "id": "hFdQ46UOqX5H"
      },
      "source": [
        "sayilar2.reverse()"
      ],
      "execution_count": 92,
      "outputs": []
    },
    {
      "cell_type": "code",
      "metadata": {
        "colab": {
          "base_uri": "https://localhost:8080/"
        },
        "id": "eyTNV-6xqa4g",
        "outputId": "a7770809-ce7a-4057-dfbd-5db21c902fcb"
      },
      "source": [
        "sayilar2"
      ],
      "execution_count": 93,
      "outputs": [
        {
          "output_type": "execute_result",
          "data": {
            "text/plain": [
              "[7789, 65, 4444, 33, 2, 678, 54, 34, 12]"
            ]
          },
          "metadata": {},
          "execution_count": 93
        }
      ]
    },
    {
      "cell_type": "code",
      "metadata": {
        "colab": {
          "base_uri": "https://localhost:8080/"
        },
        "id": "T7K6_125qoYc",
        "outputId": "84822909-6677-40ee-b54c-f94a73698607"
      },
      "source": [
        "sayilar2.pop()"
      ],
      "execution_count": 94,
      "outputs": [
        {
          "output_type": "execute_result",
          "data": {
            "text/plain": [
              "12"
            ]
          },
          "metadata": {},
          "execution_count": 94
        }
      ]
    },
    {
      "cell_type": "code",
      "metadata": {
        "id": "x6S5RMDwqwsb"
      },
      "source": [
        "sayilar2.insert(2,6666)"
      ],
      "execution_count": 96,
      "outputs": []
    },
    {
      "cell_type": "code",
      "metadata": {
        "colab": {
          "base_uri": "https://localhost:8080/"
        },
        "id": "xFAb2JQbq9yb",
        "outputId": "030e739d-e9b0-478c-f4b2-b6154155866d"
      },
      "source": [
        "sayilar2"
      ],
      "execution_count": 97,
      "outputs": [
        {
          "output_type": "execute_result",
          "data": {
            "text/plain": [
              "[7789, 65, 6666, 4444, 33, 2, 678, 54, 34]"
            ]
          },
          "metadata": {},
          "execution_count": 97
        }
      ]
    },
    {
      "cell_type": "code",
      "metadata": {
        "colab": {
          "base_uri": "https://localhost:8080/"
        },
        "id": "L7EnwsEDrIqb",
        "outputId": "f82e05ca-81c0-459d-d9ee-ba183caa6951"
      },
      "source": [
        "sayilar2.pop(3)"
      ],
      "execution_count": 98,
      "outputs": [
        {
          "output_type": "execute_result",
          "data": {
            "text/plain": [
              "4444"
            ]
          },
          "metadata": {},
          "execution_count": 98
        }
      ]
    },
    {
      "cell_type": "code",
      "metadata": {
        "colab": {
          "base_uri": "https://localhost:8080/"
        },
        "id": "MUFEHtXNrWQE",
        "outputId": "3a4d9bb8-2d84-45f2-ce2f-6cad1606d184"
      },
      "source": [
        "print(sayilar2)"
      ],
      "execution_count": 100,
      "outputs": [
        {
          "output_type": "stream",
          "name": "stdout",
          "text": [
            "[7789, 65, 6666, 33, 2, 678, 54, 34]\n"
          ]
        }
      ]
    }
  ]
}