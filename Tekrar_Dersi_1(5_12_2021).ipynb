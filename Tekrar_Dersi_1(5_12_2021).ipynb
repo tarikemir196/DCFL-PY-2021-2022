{
  "nbformat": 4,
  "nbformat_minor": 0,
  "metadata": {
    "colab": {
      "name": "Tekrar Dersi-1(5.12.2021).ipynb",
      "provenance": []
    },
    "kernelspec": {
      "name": "python3",
      "display_name": "Python 3"
    },
    "language_info": {
      "name": "python"
    }
  },
  "cells": [
    {
      "cell_type": "markdown",
      "metadata": {
        "id": "hsUba09KICqV"
      },
      "source": [
        "Ders-1\n",
        "\n",
        "\n",
        "*   Veri Tipleri: Int-Str\n",
        "\n",
        "integer: tam sayı\n",
        "sting: yazı karakterleri\n",
        "\n"
      ]
    },
    {
      "cell_type": "code",
      "metadata": {
        "colab": {
          "base_uri": "https://localhost:8080/"
        },
        "id": "7Wq1daLnIGcq",
        "outputId": "34b31ddf-0718-427e-8e87-49b29102bbb5"
      },
      "source": [
        "5+6"
      ],
      "execution_count": null,
      "outputs": [
        {
          "output_type": "execute_result",
          "data": {
            "text/plain": [
              "11"
            ]
          },
          "metadata": {},
          "execution_count": 1
        }
      ]
    },
    {
      "cell_type": "code",
      "metadata": {
        "id": "dTHbSQJSI-tx",
        "colab": {
          "base_uri": "https://localhost:8080/"
        },
        "outputId": "44c9e016-21b0-4343-8a24-1285ae7f539b"
      },
      "source": [
        "78/3"
      ],
      "execution_count": null,
      "outputs": [
        {
          "output_type": "execute_result",
          "data": {
            "text/plain": [
              "26.0"
            ]
          },
          "metadata": {},
          "execution_count": 2
        }
      ]
    },
    {
      "cell_type": "code",
      "metadata": {
        "id": "eB7pf4KgJAxi"
      },
      "source": [
        "#yorum satırı: Açıklama...\n",
        "#matematiksel operaatörler: + , -, *, /, %, //, **"
      ],
      "execution_count": null,
      "outputs": []
    },
    {
      "cell_type": "code",
      "metadata": {
        "colab": {
          "base_uri": "https://localhost:8080/"
        },
        "id": "Ufm35HhPKC3H",
        "outputId": "269d054e-2f11-4fca-9c33-4533d5d437fb"
      },
      "source": [
        "#mod alma\n",
        "18%7"
      ],
      "execution_count": 3,
      "outputs": [
        {
          "output_type": "execute_result",
          "data": {
            "text/plain": [
              "4"
            ]
          },
          "metadata": {},
          "execution_count": 3
        }
      ]
    },
    {
      "cell_type": "code",
      "metadata": {
        "colab": {
          "base_uri": "https://localhost:8080/"
        },
        "id": "ssllEuxHKJkE",
        "outputId": "823beff6-e4a2-402a-8471-a6559f14930f"
      },
      "source": [
        "#tam bölme\n",
        "21//5"
      ],
      "execution_count": 4,
      "outputs": [
        {
          "output_type": "execute_result",
          "data": {
            "text/plain": [
              "4"
            ]
          },
          "metadata": {},
          "execution_count": 4
        }
      ]
    },
    {
      "cell_type": "code",
      "metadata": {
        "colab": {
          "base_uri": "https://localhost:8080/"
        },
        "id": "Q7zW1duxKQOG",
        "outputId": "ade15f8e-5fd7-4be2-f60d-620e43ed29fa"
      },
      "source": [
        "#üs alma\n",
        "2**5"
      ],
      "execution_count": 5,
      "outputs": [
        {
          "output_type": "execute_result",
          "data": {
            "text/plain": [
              "32"
            ]
          },
          "metadata": {},
          "execution_count": 5
        }
      ]
    },
    {
      "cell_type": "code",
      "metadata": {
        "id": "0lJ3AyybKX15"
      },
      "source": [
        "#Değişken....yer tutucu"
      ],
      "execution_count": null,
      "outputs": []
    },
    {
      "cell_type": "code",
      "metadata": {
        "id": "XDEmpqh-KkA3"
      },
      "source": [
        "a = 19\n",
        "b = 7\n",
        "c = 8"
      ],
      "execution_count": 11,
      "outputs": []
    },
    {
      "cell_type": "code",
      "metadata": {
        "colab": {
          "base_uri": "https://localhost:8080/"
        },
        "id": "wMzKfHEfKq0T",
        "outputId": "f58fdde8-aed6-4461-b9e4-1211c84e2ebe"
      },
      "source": [
        "a*b"
      ],
      "execution_count": 12,
      "outputs": [
        {
          "output_type": "execute_result",
          "data": {
            "text/plain": [
              "133"
            ]
          },
          "metadata": {},
          "execution_count": 12
        }
      ]
    },
    {
      "cell_type": "code",
      "metadata": {
        "colab": {
          "base_uri": "https://localhost:8080/"
        },
        "id": "ydVMdoGmKtSa",
        "outputId": "dd1c55f3-1fa2-47ce-fa05-9ece1df5fb1d"
      },
      "source": [
        "a/b"
      ],
      "execution_count": 13,
      "outputs": [
        {
          "output_type": "execute_result",
          "data": {
            "text/plain": [
              "2.7142857142857144"
            ]
          },
          "metadata": {},
          "execution_count": 13
        }
      ]
    },
    {
      "cell_type": "code",
      "metadata": {
        "colab": {
          "base_uri": "https://localhost:8080/"
        },
        "id": "-ou8h9BLKvkr",
        "outputId": "41643d17-a24b-43dd-89e1-2ed0a5972389"
      },
      "source": [
        "a**b"
      ],
      "execution_count": 14,
      "outputs": [
        {
          "output_type": "execute_result",
          "data": {
            "text/plain": [
              "893871739"
            ]
          },
          "metadata": {},
          "execution_count": 14
        }
      ]
    },
    {
      "cell_type": "code",
      "metadata": {
        "colab": {
          "base_uri": "https://localhost:8080/"
        },
        "id": "3pIPUYB7KyJ2",
        "outputId": "fa24b2d8-b8b9-47d3-e2df-03e4945747f1"
      },
      "source": [
        "(a**b)**c"
      ],
      "execution_count": 15,
      "outputs": [
        {
          "output_type": "execute_result",
          "data": {
            "text/plain": [
              "407569478172909828847318650548420153417875032325531352984650263038054881"
            ]
          },
          "metadata": {},
          "execution_count": 15
        }
      ]
    },
    {
      "cell_type": "markdown",
      "metadata": {
        "id": "6vFlv9KILNp9"
      },
      "source": [
        "String: kakater dizileri-text-yazılar"
      ]
    },
    {
      "cell_type": "code",
      "metadata": {
        "colab": {
          "base_uri": "https://localhost:8080/",
          "height": 35
        },
        "id": "o74VZNH9LSFW",
        "outputId": "02e0d7f2-dbc3-4c8b-9a9e-54fa41a6324c"
      },
      "source": [
        "\"DCFL Python\""
      ],
      "execution_count": 17,
      "outputs": [
        {
          "output_type": "execute_result",
          "data": {
            "application/vnd.google.colaboratory.intrinsic+json": {
              "type": "string"
            },
            "text/plain": [
              "'DCFL Python'"
            ]
          },
          "metadata": {},
          "execution_count": 17
        }
      ]
    },
    {
      "cell_type": "code",
      "metadata": {
        "id": "OyZ2_TAGLgTd"
      },
      "source": [
        "ad = \"veysel\"\n",
        "soyad = \" Kaya\""
      ],
      "execution_count": 21,
      "outputs": []
    },
    {
      "cell_type": "code",
      "metadata": {
        "colab": {
          "base_uri": "https://localhost:8080/",
          "height": 35
        },
        "id": "54vogEg1LlSu",
        "outputId": "b58df36a-cf2e-4d49-e573-7d9ce08c8e9f"
      },
      "source": [
        "ad"
      ],
      "execution_count": 22,
      "outputs": [
        {
          "output_type": "execute_result",
          "data": {
            "application/vnd.google.colaboratory.intrinsic+json": {
              "type": "string"
            },
            "text/plain": [
              "'veysel'"
            ]
          },
          "metadata": {},
          "execution_count": 22
        }
      ]
    },
    {
      "cell_type": "code",
      "metadata": {
        "colab": {
          "base_uri": "https://localhost:8080/",
          "height": 35
        },
        "id": "2vDB1DyiLqas",
        "outputId": "03cf5204-c4c6-42bc-cbb1-40eb0a7adf10"
      },
      "source": [
        "ad + soyad"
      ],
      "execution_count": 23,
      "outputs": [
        {
          "output_type": "execute_result",
          "data": {
            "application/vnd.google.colaboratory.intrinsic+json": {
              "type": "string"
            },
            "text/plain": [
              "'veysel Kaya'"
            ]
          },
          "metadata": {},
          "execution_count": 23
        }
      ]
    },
    {
      "cell_type": "code",
      "metadata": {
        "id": "CB0l0-EAL7v3"
      },
      "source": [
        "#print() fonksiyonu: Ekrana yazı yazdırmaya yarayan fonksiyon...!"
      ],
      "execution_count": null,
      "outputs": []
    },
    {
      "cell_type": "code",
      "metadata": {
        "colab": {
          "base_uri": "https://localhost:8080/",
          "height": 35
        },
        "id": "Y8fLfFYtMMwA",
        "outputId": "2fe6f3c1-bcd3-4991-c26d-003bbbd26c72"
      },
      "source": [
        "\"Dcfl\""
      ],
      "execution_count": 24,
      "outputs": [
        {
          "output_type": "execute_result",
          "data": {
            "application/vnd.google.colaboratory.intrinsic+json": {
              "type": "string"
            },
            "text/plain": [
              "'Dcfl'"
            ]
          },
          "metadata": {},
          "execution_count": 24
        }
      ]
    },
    {
      "cell_type": "code",
      "metadata": {
        "colab": {
          "base_uri": "https://localhost:8080/"
        },
        "id": "rg5Fbww-MPTx",
        "outputId": "5adaa6ed-33f4-4536-9723-8293c7b25032"
      },
      "source": [
        "print(\"Dcfl\")"
      ],
      "execution_count": 25,
      "outputs": [
        {
          "output_type": "stream",
          "name": "stdout",
          "text": [
            "Dcfl\n"
          ]
        }
      ]
    },
    {
      "cell_type": "code",
      "metadata": {
        "colab": {
          "base_uri": "https://localhost:8080/"
        },
        "id": "Mk-s-G8XMWnQ",
        "outputId": "3923ef23-dca1-4cea-ca51-9572b0719c22"
      },
      "source": [
        "#değikenler print fornksiyonunun içine yazılırken \" \" kullanılmaz\n",
        "ad = \"Veysel\"\n",
        "yas = 15\n",
        "\n",
        "print(\"Adım: \", ad, \"Yaşım: \", yas)"
      ],
      "execution_count": 29,
      "outputs": [
        {
          "output_type": "stream",
          "name": "stdout",
          "text": [
            "Adım:  Veysel Yaşım:  15\n"
          ]
        }
      ]
    },
    {
      "cell_type": "code",
      "metadata": {
        "colab": {
          "base_uri": "https://localhost:8080/"
        },
        "id": "1uHZq2mjM2n_",
        "outputId": "34d2e672-f4e8-4374-ca2c-c0d8612d9c01"
      },
      "source": [
        "a = 89\n",
        "b = 17\n",
        "toplam= a+b\n",
        "\n",
        "print(\"a değişkeninin değeri: \", a, \"\\nb değişkeninin değeri: \", b)\n",
        "print(\"Toplamları: \", toplam )"
      ],
      "execution_count": 33,
      "outputs": [
        {
          "output_type": "stream",
          "name": "stdout",
          "text": [
            "a değişkeninin değeri:  89 \n",
            "b değişkeninin değeri:  17\n",
            "Toplamları:  106\n"
          ]
        }
      ]
    },
    {
      "cell_type": "code",
      "metadata": {
        "colab": {
          "base_uri": "https://localhost:8080/"
        },
        "id": "knZAIm6COLT_",
        "outputId": "d6903109-c615-4211-b594-c4fb85c2a82f"
      },
      "source": [
        "#input() fonksiyonu....: kullanıcıdan veri almak için kullanılır...\n",
        "\n",
        "ad = input(\"Adın ne yolcu..: \")\n",
        "print(\"Hoşgeldin: \", ad)"
      ],
      "execution_count": 36,
      "outputs": [
        {
          "output_type": "stream",
          "name": "stdout",
          "text": [
            "Adın ne yolcu..: Merve\n",
            "Hoşgeldin:  Merve\n"
          ]
        }
      ]
    },
    {
      "cell_type": "code",
      "metadata": {
        "colab": {
          "base_uri": "https://localhost:8080/"
        },
        "id": "9i60tW_QOqx0",
        "outputId": "91ac260f-4d9c-41b0-9a62-3de13f68ad27"
      },
      "source": [
        "#iki sayıyı toplayan program\n",
        "\n",
        "a = int(input(\"Birinci sayıyı gir: \"))\n",
        "b = int(input(\"İkinic sayıyı gir: \"))\n",
        "toplam = a+b\n",
        "\n",
        "print(\"Girdiğin sayılar: \", a, \",\", b)\n",
        "print(\"Toplamları: \", toplam)"
      ],
      "execution_count": 40,
      "outputs": [
        {
          "output_type": "stream",
          "name": "stdout",
          "text": [
            "Birinci sayıyı gir: 56\n",
            "İkinic sayıyı gir: 78\n",
            "Girdiğin sayılar:  56 , 78\n",
            "Toplamları:  134\n"
          ]
        }
      ]
    },
    {
      "cell_type": "code",
      "metadata": {
        "colab": {
          "base_uri": "https://localhost:8080/"
        },
        "id": "UPGWWBbPPpdn",
        "outputId": "6c2ab7d1-56b3-47c1-83c5-dd19ee407350"
      },
      "source": [
        "#dairenin alanını hesaplayan program:\n",
        "\n",
        "r = int(input(\"Yarıçapı gir: \"))\n",
        "\n",
        "alan = 3.14*r**2\n",
        "\n",
        "print(\"Dairenin alanı: \", alan)"
      ],
      "execution_count": 42,
      "outputs": [
        {
          "output_type": "stream",
          "name": "stdout",
          "text": [
            "Yarıçapı gir: 10\n",
            "Dairenin alanı:  314.0\n"
          ]
        }
      ]
    }
  ]
}